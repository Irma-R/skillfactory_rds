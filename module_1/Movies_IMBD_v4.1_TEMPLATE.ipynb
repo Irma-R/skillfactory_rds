{
 "cells": [
  {
   "cell_type": "code",
   "execution_count": 1,
   "metadata": {
    "_cell_guid": "b1076dfc-b9ad-4769-8c92-a6c4dae69d19",
    "_uuid": "8f2839f25d086af736a60e9eeb907d3b93b6e0e5",
    "colab": {},
    "colab_type": "code",
    "id": "U2D2gTdJVp90"
   },
   "outputs": [],
   "source": [
    "import numpy as np\n",
    "import pandas as pd\n",
    "import seaborn as sns\n",
    "import matplotlib.pyplot as plt\n",
    "from collections import Counter"
   ]
  },
  {
   "cell_type": "code",
   "execution_count": 2,
   "metadata": {
    "_cell_guid": "79c7e3d0-c299-4dcb-8224-4455121ee9b0",
    "_uuid": "d629ff2d2480ee46fbb7e2d37f6b5fab8052498a",
    "colab": {},
    "colab_type": "code",
    "id": "oyGfxL3eVp9-"
   },
   "outputs": [
    {
     "data": {
      "text/html": [
       "<div>\n",
       "<style scoped>\n",
       "    .dataframe tbody tr th:only-of-type {\n",
       "        vertical-align: middle;\n",
       "    }\n",
       "\n",
       "    .dataframe tbody tr th {\n",
       "        vertical-align: top;\n",
       "    }\n",
       "\n",
       "    .dataframe thead th {\n",
       "        text-align: right;\n",
       "    }\n",
       "</style>\n",
       "<table border=\"1\" class=\"dataframe\">\n",
       "  <thead>\n",
       "    <tr style=\"text-align: right;\">\n",
       "      <th></th>\n",
       "      <th>imdb_id</th>\n",
       "      <th>budget</th>\n",
       "      <th>revenue</th>\n",
       "      <th>original_title</th>\n",
       "      <th>cast</th>\n",
       "      <th>director</th>\n",
       "      <th>tagline</th>\n",
       "      <th>overview</th>\n",
       "      <th>runtime</th>\n",
       "      <th>genres</th>\n",
       "      <th>production_companies</th>\n",
       "      <th>release_date</th>\n",
       "      <th>vote_average</th>\n",
       "      <th>release_year</th>\n",
       "    </tr>\n",
       "  </thead>\n",
       "  <tbody>\n",
       "    <tr>\n",
       "      <th>236</th>\n",
       "      <td>tt2319580</td>\n",
       "      <td>12700000</td>\n",
       "      <td>3430018</td>\n",
       "      <td>The Grand Seduction</td>\n",
       "      <td>Brendan Gleeson|Taylor Kitsch|Gordon Pinsent|L...</td>\n",
       "      <td>Don McKellar</td>\n",
       "      <td>The small town of Tickle Cove needed a doctor....</td>\n",
       "      <td>A small fishing village must procure a local d...</td>\n",
       "      <td>112</td>\n",
       "      <td>Comedy</td>\n",
       "      <td>Max Films Productions|Morag Loves Company</td>\n",
       "      <td>5/30/2014</td>\n",
       "      <td>6.7</td>\n",
       "      <td>2014</td>\n",
       "    </tr>\n",
       "    <tr>\n",
       "      <th>732</th>\n",
       "      <td>tt1568346</td>\n",
       "      <td>90000000</td>\n",
       "      <td>232617430</td>\n",
       "      <td>The Girl with the Dragon Tattoo</td>\n",
       "      <td>Daniel Craig|Rooney Mara|Christopher Plummer|G...</td>\n",
       "      <td>David Fincher</td>\n",
       "      <td>Evil shall with evil be expelled.</td>\n",
       "      <td>This English-language adaptation of the Swedis...</td>\n",
       "      <td>158</td>\n",
       "      <td>Thriller|Crime|Mystery|Drama</td>\n",
       "      <td>Columbia Pictures|Scott Rudin Productions|Film...</td>\n",
       "      <td>12/14/2011</td>\n",
       "      <td>7.1</td>\n",
       "      <td>2011</td>\n",
       "    </tr>\n",
       "    <tr>\n",
       "      <th>150</th>\n",
       "      <td>tt1204977</td>\n",
       "      <td>5000000</td>\n",
       "      <td>102529779</td>\n",
       "      <td>Ouija</td>\n",
       "      <td>Olivia Cooke|Ana Coto|Daren Kagasoff|Bianca A....</td>\n",
       "      <td>Stiles White</td>\n",
       "      <td>Keep telling yourself it's just a game</td>\n",
       "      <td>A group of friends must confront their most te...</td>\n",
       "      <td>89</td>\n",
       "      <td>Horror</td>\n",
       "      <td>Universal Pictures|Platinum Dunes|Media Rights...</td>\n",
       "      <td>10/24/2014</td>\n",
       "      <td>4.9</td>\n",
       "      <td>2014</td>\n",
       "    </tr>\n",
       "    <tr>\n",
       "      <th>1196</th>\n",
       "      <td>tt1606378</td>\n",
       "      <td>92000000</td>\n",
       "      <td>304654182</td>\n",
       "      <td>A Good Day to Die Hard</td>\n",
       "      <td>Bruce Willis|Jai Courtney|Sebastian Koch|Mary ...</td>\n",
       "      <td>John Moore</td>\n",
       "      <td>Yippee Ki-Yay Mother Russia</td>\n",
       "      <td>Iconoclastic, take-no-prisoners cop John McCla...</td>\n",
       "      <td>98</td>\n",
       "      <td>Action|Thriller</td>\n",
       "      <td>Ingenious Media|Twentieth Century Fox Film Cor...</td>\n",
       "      <td>2/6/2013</td>\n",
       "      <td>5.2</td>\n",
       "      <td>2013</td>\n",
       "    </tr>\n",
       "    <tr>\n",
       "      <th>1649</th>\n",
       "      <td>tt0356618</td>\n",
       "      <td>42000000</td>\n",
       "      <td>117575636</td>\n",
       "      <td>The Forgotten</td>\n",
       "      <td>Julianne Moore|Anthony Edwards|Jessica Hecht|C...</td>\n",
       "      <td>Joseph Ruben</td>\n",
       "      <td>You'll Never Forget The Ones You Love</td>\n",
       "      <td>Telly Paretta is a grieving mother struggling ...</td>\n",
       "      <td>91</td>\n",
       "      <td>Crime|Drama|Horror|Mystery|Science Fiction</td>\n",
       "      <td>Revolution Studios|Jinks/Cohen Company|Visual ...</td>\n",
       "      <td>9/24/2004</td>\n",
       "      <td>5.4</td>\n",
       "      <td>2004</td>\n",
       "    </tr>\n",
       "  </tbody>\n",
       "</table>\n",
       "</div>"
      ],
      "text/plain": [
       "        imdb_id    budget    revenue                   original_title  \\\n",
       "236   tt2319580  12700000    3430018              The Grand Seduction   \n",
       "732   tt1568346  90000000  232617430  The Girl with the Dragon Tattoo   \n",
       "150   tt1204977   5000000  102529779                            Ouija   \n",
       "1196  tt1606378  92000000  304654182           A Good Day to Die Hard   \n",
       "1649  tt0356618  42000000  117575636                    The Forgotten   \n",
       "\n",
       "                                                   cast       director  \\\n",
       "236   Brendan Gleeson|Taylor Kitsch|Gordon Pinsent|L...   Don McKellar   \n",
       "732   Daniel Craig|Rooney Mara|Christopher Plummer|G...  David Fincher   \n",
       "150   Olivia Cooke|Ana Coto|Daren Kagasoff|Bianca A....   Stiles White   \n",
       "1196  Bruce Willis|Jai Courtney|Sebastian Koch|Mary ...     John Moore   \n",
       "1649  Julianne Moore|Anthony Edwards|Jessica Hecht|C...   Joseph Ruben   \n",
       "\n",
       "                                                tagline  \\\n",
       "236   The small town of Tickle Cove needed a doctor....   \n",
       "732                   Evil shall with evil be expelled.   \n",
       "150              Keep telling yourself it's just a game   \n",
       "1196                        Yippee Ki-Yay Mother Russia   \n",
       "1649              You'll Never Forget The Ones You Love   \n",
       "\n",
       "                                               overview  runtime  \\\n",
       "236   A small fishing village must procure a local d...      112   \n",
       "732   This English-language adaptation of the Swedis...      158   \n",
       "150   A group of friends must confront their most te...       89   \n",
       "1196  Iconoclastic, take-no-prisoners cop John McCla...       98   \n",
       "1649  Telly Paretta is a grieving mother struggling ...       91   \n",
       "\n",
       "                                          genres  \\\n",
       "236                                       Comedy   \n",
       "732                 Thriller|Crime|Mystery|Drama   \n",
       "150                                       Horror   \n",
       "1196                             Action|Thriller   \n",
       "1649  Crime|Drama|Horror|Mystery|Science Fiction   \n",
       "\n",
       "                                   production_companies release_date  \\\n",
       "236           Max Films Productions|Morag Loves Company    5/30/2014   \n",
       "732   Columbia Pictures|Scott Rudin Productions|Film...   12/14/2011   \n",
       "150   Universal Pictures|Platinum Dunes|Media Rights...   10/24/2014   \n",
       "1196  Ingenious Media|Twentieth Century Fox Film Cor...     2/6/2013   \n",
       "1649  Revolution Studios|Jinks/Cohen Company|Visual ...    9/24/2004   \n",
       "\n",
       "      vote_average  release_year  \n",
       "236            6.7          2014  \n",
       "732            7.1          2011  \n",
       "150            4.9          2014  \n",
       "1196           5.2          2013  \n",
       "1649           5.4          2004  "
      ]
     },
     "execution_count": 2,
     "metadata": {},
     "output_type": "execute_result"
    }
   ],
   "source": [
    "data = pd.read_csv('movie_bd_v5.csv')\n",
    "data.sample(5)"
   ]
  },
  {
   "cell_type": "code",
   "execution_count": 87,
   "metadata": {
    "colab": {},
    "colab_type": "code",
    "id": "CoYUnagMVp-C"
   },
   "outputs": [
    {
     "name": "stdout",
     "output_type": "stream",
     "text": [
      "             budget       revenue      runtime  vote_average  release_year  \\\n",
      "count  1.889000e+03  1.889000e+03  1889.000000   1889.000000   1889.000000   \n",
      "mean   5.431083e+07  1.553653e+08   109.658549      6.140762   2007.860773   \n",
      "std    4.858721e+07  2.146698e+08    18.017041      0.764763      4.468841   \n",
      "min    5.000000e+06  2.033165e+06    63.000000      3.300000   2000.000000   \n",
      "25%    2.000000e+07  3.456058e+07    97.000000      5.600000   2004.000000   \n",
      "50%    3.800000e+07  8.361541e+07   107.000000      6.100000   2008.000000   \n",
      "75%    7.200000e+07  1.782626e+08   120.000000      6.600000   2012.000000   \n",
      "max    3.800000e+08  2.781506e+09   214.000000      8.100000   2015.000000   \n",
      "\n",
      "             profit        month  len_original_title  count_overview  \n",
      "count  1.889000e+03  1889.000000         1889.000000     1889.000000  \n",
      "mean   1.010545e+08     6.933298           15.037057       52.410270  \n",
      "std    1.830733e+08     3.390196            8.552660       26.631917  \n",
      "min   -1.657101e+08     1.000000            1.000000       10.000000  \n",
      "25%    5.000000e+06     4.000000            9.000000       32.000000  \n",
      "50%    4.400041e+07     7.000000           13.000000       48.000000  \n",
      "75%    1.201842e+08    10.000000           18.000000       67.000000  \n",
      "max    2.544506e+09    12.000000           83.000000      175.000000  \n",
      "          imdb_id original_title  \\\n",
      "count        1889           1889   \n",
      "unique       1889           1887   \n",
      "top     tt0455538       The Gift   \n",
      "freq            1              2   \n",
      "\n",
      "                                                     cast           director  \\\n",
      "count                                                1889               1889   \n",
      "unique                                               1878                957   \n",
      "top     Jennifer Lawrence|Josh Hutcherson|Liam Hemswor...  Steven Soderbergh   \n",
      "freq                                                    3                 13   \n",
      "\n",
      "                     tagline  \\\n",
      "count                   1889   \n",
      "unique                  1880   \n",
      "top     What could go wrong?   \n",
      "freq                       2   \n",
      "\n",
      "                                                 overview  genres  \\\n",
      "count                                                1889    1889   \n",
      "unique                                               1889     652   \n",
      "top     A packed cruise ship traveling the Atlantic is...  Comedy   \n",
      "freq                                                    1     141   \n",
      "\n",
      "       production_companies  \n",
      "count                  1889  \n",
      "unique                 1624  \n",
      "top         New Line Cinema  \n",
      "freq                     21  \n",
      "<class 'pandas.core.frame.DataFrame'>\n",
      "RangeIndex: 1889 entries, 0 to 1888\n",
      "Data columns (total 18 columns):\n",
      " #   Column                Non-Null Count  Dtype         \n",
      "---  ------                --------------  -----         \n",
      " 0   imdb_id               1889 non-null   object        \n",
      " 1   budget                1889 non-null   int64         \n",
      " 2   revenue               1889 non-null   int64         \n",
      " 3   original_title        1889 non-null   object        \n",
      " 4   cast                  1889 non-null   object        \n",
      " 5   director              1889 non-null   object        \n",
      " 6   tagline               1889 non-null   object        \n",
      " 7   overview              1889 non-null   object        \n",
      " 8   runtime               1889 non-null   int64         \n",
      " 9   genres                1889 non-null   object        \n",
      " 10  production_companies  1889 non-null   object        \n",
      " 11  release_date          1889 non-null   datetime64[ns]\n",
      " 12  vote_average          1889 non-null   float64       \n",
      " 13  release_year          1889 non-null   int64         \n",
      " 14  profit                1889 non-null   int64         \n",
      " 15  month                 1889 non-null   int64         \n",
      " 16  len_original_title    1889 non-null   int64         \n",
      " 17  count_overview        1889 non-null   int64         \n",
      "dtypes: datetime64[ns](1), float64(1), int64(8), object(8)\n",
      "memory usage: 265.8+ KB\n",
      "None\n",
      "1889\n"
     ]
    }
   ],
   "source": [
    "#общая информация\n",
    "print(data.describe())\n",
    "print(data.describe(include = ['object']))\n",
    "print(data.info())"
   ]
  },
  {
   "cell_type": "markdown",
   "metadata": {
    "colab_type": "text",
    "id": "DTIt7ezGVp-G"
   },
   "source": [
    "# Предобработка"
   ]
  },
  {
   "cell_type": "code",
   "execution_count": 72,
   "metadata": {
    "colab": {},
    "colab_type": "code",
    "id": "jNb40DwKVp-H",
    "scrolled": true
   },
   "outputs": [
    {
     "data": {
      "text/html": [
       "<div>\n",
       "<style scoped>\n",
       "    .dataframe tbody tr th:only-of-type {\n",
       "        vertical-align: middle;\n",
       "    }\n",
       "\n",
       "    .dataframe tbody tr th {\n",
       "        vertical-align: top;\n",
       "    }\n",
       "\n",
       "    .dataframe thead th {\n",
       "        text-align: right;\n",
       "    }\n",
       "</style>\n",
       "<table border=\"1\" class=\"dataframe\">\n",
       "  <thead>\n",
       "    <tr style=\"text-align: right;\">\n",
       "      <th></th>\n",
       "      <th>imdb_id</th>\n",
       "      <th>budget</th>\n",
       "      <th>revenue</th>\n",
       "      <th>original_title</th>\n",
       "      <th>cast</th>\n",
       "      <th>director</th>\n",
       "      <th>tagline</th>\n",
       "      <th>overview</th>\n",
       "      <th>runtime</th>\n",
       "      <th>genres</th>\n",
       "      <th>production_companies</th>\n",
       "      <th>release_date</th>\n",
       "      <th>vote_average</th>\n",
       "      <th>release_year</th>\n",
       "      <th>profit</th>\n",
       "      <th>month</th>\n",
       "    </tr>\n",
       "  </thead>\n",
       "  <tbody>\n",
       "    <tr>\n",
       "      <th>0</th>\n",
       "      <td>tt0369610</td>\n",
       "      <td>150000000</td>\n",
       "      <td>1513528810</td>\n",
       "      <td>Jurassic World</td>\n",
       "      <td>Chris Pratt|Bryce Dallas Howard|Irrfan Khan|Vi...</td>\n",
       "      <td>Colin Trevorrow</td>\n",
       "      <td>The park is open.</td>\n",
       "      <td>Twenty-two years after the events of Jurassic ...</td>\n",
       "      <td>124</td>\n",
       "      <td>Action|Adventure|Science Fiction|Thriller</td>\n",
       "      <td>Universal Studios|Amblin Entertainment|Legenda...</td>\n",
       "      <td>2015-06-09</td>\n",
       "      <td>6.5</td>\n",
       "      <td>2015</td>\n",
       "      <td>1363528810</td>\n",
       "      <td>6</td>\n",
       "    </tr>\n",
       "    <tr>\n",
       "      <th>1</th>\n",
       "      <td>tt1392190</td>\n",
       "      <td>150000000</td>\n",
       "      <td>378436354</td>\n",
       "      <td>Mad Max: Fury Road</td>\n",
       "      <td>Tom Hardy|Charlize Theron|Hugh Keays-Byrne|Nic...</td>\n",
       "      <td>George Miller</td>\n",
       "      <td>What a Lovely Day.</td>\n",
       "      <td>An apocalyptic story set in the furthest reach...</td>\n",
       "      <td>120</td>\n",
       "      <td>Action|Adventure|Science Fiction|Thriller</td>\n",
       "      <td>Village Roadshow Pictures|Kennedy Miller Produ...</td>\n",
       "      <td>2015-05-13</td>\n",
       "      <td>7.1</td>\n",
       "      <td>2015</td>\n",
       "      <td>228436354</td>\n",
       "      <td>5</td>\n",
       "    </tr>\n",
       "    <tr>\n",
       "      <th>2</th>\n",
       "      <td>tt2908446</td>\n",
       "      <td>110000000</td>\n",
       "      <td>295238201</td>\n",
       "      <td>Insurgent</td>\n",
       "      <td>Shailene Woodley|Theo James|Kate Winslet|Ansel...</td>\n",
       "      <td>Robert Schwentke</td>\n",
       "      <td>One Choice Can Destroy You</td>\n",
       "      <td>Beatrice Prior must confront her inner demons ...</td>\n",
       "      <td>119</td>\n",
       "      <td>Adventure|Science Fiction|Thriller</td>\n",
       "      <td>Summit Entertainment|Mandeville Films|Red Wago...</td>\n",
       "      <td>2015-03-18</td>\n",
       "      <td>6.3</td>\n",
       "      <td>2015</td>\n",
       "      <td>185238201</td>\n",
       "      <td>3</td>\n",
       "    </tr>\n",
       "    <tr>\n",
       "      <th>3</th>\n",
       "      <td>tt2488496</td>\n",
       "      <td>200000000</td>\n",
       "      <td>2068178225</td>\n",
       "      <td>Star Wars: The Force Awakens</td>\n",
       "      <td>Harrison Ford|Mark Hamill|Carrie Fisher|Adam D...</td>\n",
       "      <td>J.J. Abrams</td>\n",
       "      <td>Every generation has a story.</td>\n",
       "      <td>Thirty years after defeating the Galactic Empi...</td>\n",
       "      <td>136</td>\n",
       "      <td>Action|Adventure|Science Fiction|Fantasy</td>\n",
       "      <td>Lucasfilm|Truenorth Productions|Bad Robot</td>\n",
       "      <td>2015-12-15</td>\n",
       "      <td>7.5</td>\n",
       "      <td>2015</td>\n",
       "      <td>1868178225</td>\n",
       "      <td>12</td>\n",
       "    </tr>\n",
       "    <tr>\n",
       "      <th>4</th>\n",
       "      <td>tt2820852</td>\n",
       "      <td>190000000</td>\n",
       "      <td>1506249360</td>\n",
       "      <td>Furious 7</td>\n",
       "      <td>Vin Diesel|Paul Walker|Jason Statham|Michelle ...</td>\n",
       "      <td>James Wan</td>\n",
       "      <td>Vengeance Hits Home</td>\n",
       "      <td>Deckard Shaw seeks revenge against Dominic Tor...</td>\n",
       "      <td>137</td>\n",
       "      <td>Action|Crime|Thriller</td>\n",
       "      <td>Universal Pictures|Original Film|Media Rights ...</td>\n",
       "      <td>2015-04-01</td>\n",
       "      <td>7.3</td>\n",
       "      <td>2015</td>\n",
       "      <td>1316249360</td>\n",
       "      <td>4</td>\n",
       "    </tr>\n",
       "    <tr>\n",
       "      <th>...</th>\n",
       "      <td>...</td>\n",
       "      <td>...</td>\n",
       "      <td>...</td>\n",
       "      <td>...</td>\n",
       "      <td>...</td>\n",
       "      <td>...</td>\n",
       "      <td>...</td>\n",
       "      <td>...</td>\n",
       "      <td>...</td>\n",
       "      <td>...</td>\n",
       "      <td>...</td>\n",
       "      <td>...</td>\n",
       "      <td>...</td>\n",
       "      <td>...</td>\n",
       "      <td>...</td>\n",
       "      <td>...</td>\n",
       "    </tr>\n",
       "    <tr>\n",
       "      <th>1884</th>\n",
       "      <td>tt0120903</td>\n",
       "      <td>75000000</td>\n",
       "      <td>157299717</td>\n",
       "      <td>X-Men</td>\n",
       "      <td>Patrick Stewart|Hugh Jackman|Ian McKellen|Hall...</td>\n",
       "      <td>Bryan Singer</td>\n",
       "      <td>Evolution Begins</td>\n",
       "      <td>Two mutants, Rogue and Wolverine, come to a pr...</td>\n",
       "      <td>104</td>\n",
       "      <td>Adventure|Action|Science Fiction</td>\n",
       "      <td>Twentieth Century Fox Film Corporation|Donners...</td>\n",
       "      <td>2000-07-13</td>\n",
       "      <td>6.6</td>\n",
       "      <td>2000</td>\n",
       "      <td>82299717</td>\n",
       "      <td>7</td>\n",
       "    </tr>\n",
       "    <tr>\n",
       "      <th>1885</th>\n",
       "      <td>tt0192255</td>\n",
       "      <td>22000000</td>\n",
       "      <td>13555988</td>\n",
       "      <td>The Little Vampire</td>\n",
       "      <td>Richard E. Grant|Jonathan Lipnicki|Jim Carter|...</td>\n",
       "      <td>Uli Edel</td>\n",
       "      <td>They're not just best friends, they're blood b...</td>\n",
       "      <td>Based on the popular books, the story tells of...</td>\n",
       "      <td>95</td>\n",
       "      <td>Horror|Family|Foreign</td>\n",
       "      <td>New Line Cinema</td>\n",
       "      <td>2000-10-27</td>\n",
       "      <td>6.4</td>\n",
       "      <td>2000</td>\n",
       "      <td>-8444012</td>\n",
       "      <td>10</td>\n",
       "    </tr>\n",
       "    <tr>\n",
       "      <th>1886</th>\n",
       "      <td>tt0131704</td>\n",
       "      <td>76000000</td>\n",
       "      <td>35134820</td>\n",
       "      <td>The Adventures of Rocky &amp; Bullwinkle</td>\n",
       "      <td>Rene Russo|Jason Alexander|Piper Perabo|Randy ...</td>\n",
       "      <td>Des McAnuff</td>\n",
       "      <td>This summer it's not the same old bull.</td>\n",
       "      <td>Rocky and Bullwinkle have been living off the ...</td>\n",
       "      <td>88</td>\n",
       "      <td>Adventure|Animation|Action|Comedy|Family</td>\n",
       "      <td>Universal Pictures|Capella International|KC Me...</td>\n",
       "      <td>2000-06-30</td>\n",
       "      <td>4.0</td>\n",
       "      <td>2000</td>\n",
       "      <td>-40865180</td>\n",
       "      <td>6</td>\n",
       "    </tr>\n",
       "    <tr>\n",
       "      <th>1887</th>\n",
       "      <td>tt0162983</td>\n",
       "      <td>40000000</td>\n",
       "      <td>36037909</td>\n",
       "      <td>Hanging Up</td>\n",
       "      <td>Meg Ryan|Diane Keaton|Lisa Kudrow|Walter Matth...</td>\n",
       "      <td>Diane Keaton</td>\n",
       "      <td>Every family has a few hang-ups.</td>\n",
       "      <td>A trio of sisters bond over their ambivalence ...</td>\n",
       "      <td>94</td>\n",
       "      <td>Comedy|Drama</td>\n",
       "      <td>Laurence Mark Productions|Columbia Pictures Co...</td>\n",
       "      <td>2000-02-16</td>\n",
       "      <td>5.2</td>\n",
       "      <td>2000</td>\n",
       "      <td>-3962091</td>\n",
       "      <td>2</td>\n",
       "    </tr>\n",
       "    <tr>\n",
       "      <th>1888</th>\n",
       "      <td>tt0163676</td>\n",
       "      <td>15000000</td>\n",
       "      <td>5217498</td>\n",
       "      <td>The In Crowd</td>\n",
       "      <td>Susan Ward|Lori Heuring|Matthew Settle|Nathan ...</td>\n",
       "      <td>Mary Lambert</td>\n",
       "      <td>What would you do to get in?</td>\n",
       "      <td>A mentally disturbed young woman takes a job a...</td>\n",
       "      <td>105</td>\n",
       "      <td>Thriller</td>\n",
       "      <td>Warner Bros. Pictures</td>\n",
       "      <td>2000-07-19</td>\n",
       "      <td>5.2</td>\n",
       "      <td>2000</td>\n",
       "      <td>-9782502</td>\n",
       "      <td>7</td>\n",
       "    </tr>\n",
       "  </tbody>\n",
       "</table>\n",
       "<p>1889 rows × 16 columns</p>\n",
       "</div>"
      ],
      "text/plain": [
       "        imdb_id     budget     revenue                        original_title  \\\n",
       "0     tt0369610  150000000  1513528810                        Jurassic World   \n",
       "1     tt1392190  150000000   378436354                    Mad Max: Fury Road   \n",
       "2     tt2908446  110000000   295238201                             Insurgent   \n",
       "3     tt2488496  200000000  2068178225          Star Wars: The Force Awakens   \n",
       "4     tt2820852  190000000  1506249360                             Furious 7   \n",
       "...         ...        ...         ...                                   ...   \n",
       "1884  tt0120903   75000000   157299717                                 X-Men   \n",
       "1885  tt0192255   22000000    13555988                    The Little Vampire   \n",
       "1886  tt0131704   76000000    35134820  The Adventures of Rocky & Bullwinkle   \n",
       "1887  tt0162983   40000000    36037909                            Hanging Up   \n",
       "1888  tt0163676   15000000     5217498                          The In Crowd   \n",
       "\n",
       "                                                   cast          director  \\\n",
       "0     Chris Pratt|Bryce Dallas Howard|Irrfan Khan|Vi...   Colin Trevorrow   \n",
       "1     Tom Hardy|Charlize Theron|Hugh Keays-Byrne|Nic...     George Miller   \n",
       "2     Shailene Woodley|Theo James|Kate Winslet|Ansel...  Robert Schwentke   \n",
       "3     Harrison Ford|Mark Hamill|Carrie Fisher|Adam D...       J.J. Abrams   \n",
       "4     Vin Diesel|Paul Walker|Jason Statham|Michelle ...         James Wan   \n",
       "...                                                 ...               ...   \n",
       "1884  Patrick Stewart|Hugh Jackman|Ian McKellen|Hall...      Bryan Singer   \n",
       "1885  Richard E. Grant|Jonathan Lipnicki|Jim Carter|...          Uli Edel   \n",
       "1886  Rene Russo|Jason Alexander|Piper Perabo|Randy ...       Des McAnuff   \n",
       "1887  Meg Ryan|Diane Keaton|Lisa Kudrow|Walter Matth...      Diane Keaton   \n",
       "1888  Susan Ward|Lori Heuring|Matthew Settle|Nathan ...      Mary Lambert   \n",
       "\n",
       "                                                tagline  \\\n",
       "0                                     The park is open.   \n",
       "1                                    What a Lovely Day.   \n",
       "2                            One Choice Can Destroy You   \n",
       "3                         Every generation has a story.   \n",
       "4                                   Vengeance Hits Home   \n",
       "...                                                 ...   \n",
       "1884                                   Evolution Begins   \n",
       "1885  They're not just best friends, they're blood b...   \n",
       "1886            This summer it's not the same old bull.   \n",
       "1887                   Every family has a few hang-ups.   \n",
       "1888                       What would you do to get in?   \n",
       "\n",
       "                                               overview  runtime  \\\n",
       "0     Twenty-two years after the events of Jurassic ...      124   \n",
       "1     An apocalyptic story set in the furthest reach...      120   \n",
       "2     Beatrice Prior must confront her inner demons ...      119   \n",
       "3     Thirty years after defeating the Galactic Empi...      136   \n",
       "4     Deckard Shaw seeks revenge against Dominic Tor...      137   \n",
       "...                                                 ...      ...   \n",
       "1884  Two mutants, Rogue and Wolverine, come to a pr...      104   \n",
       "1885  Based on the popular books, the story tells of...       95   \n",
       "1886  Rocky and Bullwinkle have been living off the ...       88   \n",
       "1887  A trio of sisters bond over their ambivalence ...       94   \n",
       "1888  A mentally disturbed young woman takes a job a...      105   \n",
       "\n",
       "                                         genres  \\\n",
       "0     Action|Adventure|Science Fiction|Thriller   \n",
       "1     Action|Adventure|Science Fiction|Thriller   \n",
       "2            Adventure|Science Fiction|Thriller   \n",
       "3      Action|Adventure|Science Fiction|Fantasy   \n",
       "4                         Action|Crime|Thriller   \n",
       "...                                         ...   \n",
       "1884           Adventure|Action|Science Fiction   \n",
       "1885                      Horror|Family|Foreign   \n",
       "1886   Adventure|Animation|Action|Comedy|Family   \n",
       "1887                               Comedy|Drama   \n",
       "1888                                   Thriller   \n",
       "\n",
       "                                   production_companies release_date  \\\n",
       "0     Universal Studios|Amblin Entertainment|Legenda...   2015-06-09   \n",
       "1     Village Roadshow Pictures|Kennedy Miller Produ...   2015-05-13   \n",
       "2     Summit Entertainment|Mandeville Films|Red Wago...   2015-03-18   \n",
       "3             Lucasfilm|Truenorth Productions|Bad Robot   2015-12-15   \n",
       "4     Universal Pictures|Original Film|Media Rights ...   2015-04-01   \n",
       "...                                                 ...          ...   \n",
       "1884  Twentieth Century Fox Film Corporation|Donners...   2000-07-13   \n",
       "1885                                    New Line Cinema   2000-10-27   \n",
       "1886  Universal Pictures|Capella International|KC Me...   2000-06-30   \n",
       "1887  Laurence Mark Productions|Columbia Pictures Co...   2000-02-16   \n",
       "1888                              Warner Bros. Pictures   2000-07-19   \n",
       "\n",
       "      vote_average  release_year      profit  month  \n",
       "0              6.5          2015  1363528810      6  \n",
       "1              7.1          2015   228436354      5  \n",
       "2              6.3          2015   185238201      3  \n",
       "3              7.5          2015  1868178225     12  \n",
       "4              7.3          2015  1316249360      4  \n",
       "...            ...           ...         ...    ...  \n",
       "1884           6.6          2000    82299717      7  \n",
       "1885           6.4          2000    -8444012     10  \n",
       "1886           4.0          2000   -40865180      6  \n",
       "1887           5.2          2000    -3962091      2  \n",
       "1888           5.2          2000    -9782502      7  \n",
       "\n",
       "[1889 rows x 16 columns]"
      ]
     },
     "metadata": {},
     "output_type": "display_data"
    }
   ],
   "source": [
    "answers = {} # создадим словарь для ответов\n",
    "\n",
    "# тут другие ваши предобработки колонок например:\n",
    "# расчитаем колонку прибыль(прибыль = сборы - бюджет)\n",
    "data['profit'] = data['revenue'] - data['budget']\n",
    "#the time given in the dataset is in string format.\n",
    "#So we need to change this in datetime format\n",
    "data['release_date']=pd.to_datetime(data['release_date'])\n",
    "#добавим колонку месяц для задач 21-23\n",
    "data['month'] = data['release_date'].dt.month\n",
    "\n",
    "display(data)"
   ]
  },
  {
   "cell_type": "markdown",
   "metadata": {
    "colab_type": "text",
    "id": "YxZaH-nPVp-L"
   },
   "source": [
    "# 1. У какого фильма из списка самый большой бюджет?"
   ]
  },
  {
   "cell_type": "markdown",
   "metadata": {
    "colab_type": "text",
    "id": "Nd-G5gX6Vp-M"
   },
   "source": [
    "Использовать варианты ответов в коде решения запрещено.    \n",
    "Вы думаете и в жизни у вас будут варианты ответов?)"
   ]
  },
  {
   "cell_type": "code",
   "execution_count": 7,
   "metadata": {
    "colab": {},
    "colab_type": "code",
    "id": "dZwb3m28Vp-S"
   },
   "outputs": [
    {
     "data": {
      "text/html": [
       "<div>\n",
       "<style scoped>\n",
       "    .dataframe tbody tr th:only-of-type {\n",
       "        vertical-align: middle;\n",
       "    }\n",
       "\n",
       "    .dataframe tbody tr th {\n",
       "        vertical-align: top;\n",
       "    }\n",
       "\n",
       "    .dataframe thead th {\n",
       "        text-align: right;\n",
       "    }\n",
       "</style>\n",
       "<table border=\"1\" class=\"dataframe\">\n",
       "  <thead>\n",
       "    <tr style=\"text-align: right;\">\n",
       "      <th></th>\n",
       "      <th>imdb_id</th>\n",
       "      <th>original_title</th>\n",
       "    </tr>\n",
       "  </thead>\n",
       "  <tbody>\n",
       "    <tr>\n",
       "      <th>723</th>\n",
       "      <td>tt1298650</td>\n",
       "      <td>Pirates of the Caribbean: On Stranger Tides</td>\n",
       "    </tr>\n",
       "  </tbody>\n",
       "</table>\n",
       "</div>"
      ],
      "text/plain": [
       "       imdb_id                               original_title\n",
       "723  tt1298650  Pirates of the Caribbean: On Stranger Tides"
      ]
     },
     "execution_count": 7,
     "metadata": {},
     "output_type": "execute_result"
    }
   ],
   "source": [
    "# тут пишем ваш код для решения данного вопроса:\n",
    "data[data.budget == data.budget.max()][['imdb_id', 'original_title']]"
   ]
  },
  {
   "cell_type": "code",
   "execution_count": 97,
   "metadata": {
    "colab": {},
    "colab_type": "code",
    "id": "uVnXAY5RVp-O"
   },
   "outputs": [],
   "source": [
    "# в словарь вставляем номер вопроса и ваш ответ на него\n",
    "# Пример: \n",
    "#answers['1'] = '2. Spider-Man 3 (tt0413300)'\n",
    "# запишите свой вариант ответа\n",
    "answers['1'] = '5. Pirates of the Caribbean: On Stranger Tides (tt1298650)' #+\n",
    "# если ответили верно, можете добавить комментарий со значком \"+\""
   ]
  },
  {
   "cell_type": "markdown",
   "metadata": {
    "colab_type": "text",
    "id": "K7L3nbRXVp-X"
   },
   "source": [
    "ВАРИАНТ 2"
   ]
  },
  {
   "cell_type": "code",
   "execution_count": 0,
   "metadata": {
    "colab": {},
    "colab_type": "code",
    "id": "OGaoQI7rVp-X"
   },
   "outputs": [],
   "source": [
    "# можно добавлять разные варианты решения"
   ]
  },
  {
   "cell_type": "markdown",
   "metadata": {
    "colab_type": "text",
    "id": "FNRbbI3vVp-c"
   },
   "source": [
    "# 2. Какой из фильмов самый длительный (в минутах)?"
   ]
  },
  {
   "cell_type": "code",
   "execution_count": 9,
   "metadata": {
    "colab": {},
    "colab_type": "code",
    "id": "ot-VX2XrVp-g"
   },
   "outputs": [
    {
     "data": {
      "text/html": [
       "<div>\n",
       "<style scoped>\n",
       "    .dataframe tbody tr th:only-of-type {\n",
       "        vertical-align: middle;\n",
       "    }\n",
       "\n",
       "    .dataframe tbody tr th {\n",
       "        vertical-align: top;\n",
       "    }\n",
       "\n",
       "    .dataframe thead th {\n",
       "        text-align: right;\n",
       "    }\n",
       "</style>\n",
       "<table border=\"1\" class=\"dataframe\">\n",
       "  <thead>\n",
       "    <tr style=\"text-align: right;\">\n",
       "      <th></th>\n",
       "      <th>imdb_id</th>\n",
       "      <th>original_title</th>\n",
       "    </tr>\n",
       "  </thead>\n",
       "  <tbody>\n",
       "    <tr>\n",
       "      <th>1157</th>\n",
       "      <td>tt0279111</td>\n",
       "      <td>Gods and Generals</td>\n",
       "    </tr>\n",
       "  </tbody>\n",
       "</table>\n",
       "</div>"
      ],
      "text/plain": [
       "        imdb_id     original_title\n",
       "1157  tt0279111  Gods and Generals"
      ]
     },
     "execution_count": 9,
     "metadata": {},
     "output_type": "execute_result"
    }
   ],
   "source": [
    "data[data.runtime == data.runtime.max()][['imdb_id', 'original_title']]"
   ]
  },
  {
   "cell_type": "code",
   "execution_count": 98,
   "metadata": {
    "colab": {},
    "colab_type": "code",
    "id": "vHAoEXNTVp-d"
   },
   "outputs": [],
   "source": [
    "# думаю логику работы с этим словарем вы уже поняли, \n",
    "# по этому не буду больше его дублировать\n",
    "answers['2'] = '2. Gods and Generals (tt0279111)' #+"
   ]
  },
  {
   "cell_type": "markdown",
   "metadata": {
    "colab_type": "text",
    "id": "bapLlpW8Vp-k"
   },
   "source": [
    "# 3. Какой из фильмов самый короткий (в минутах)?\n",
    "\n",
    "\n",
    "\n"
   ]
  },
  {
   "cell_type": "code",
   "execution_count": 10,
   "metadata": {
    "colab": {},
    "colab_type": "code",
    "id": "YBxaSHuAVp-l"
   },
   "outputs": [
    {
     "data": {
      "text/html": [
       "<div>\n",
       "<style scoped>\n",
       "    .dataframe tbody tr th:only-of-type {\n",
       "        vertical-align: middle;\n",
       "    }\n",
       "\n",
       "    .dataframe tbody tr th {\n",
       "        vertical-align: top;\n",
       "    }\n",
       "\n",
       "    .dataframe thead th {\n",
       "        text-align: right;\n",
       "    }\n",
       "</style>\n",
       "<table border=\"1\" class=\"dataframe\">\n",
       "  <thead>\n",
       "    <tr style=\"text-align: right;\">\n",
       "      <th></th>\n",
       "      <th>imdb_id</th>\n",
       "      <th>original_title</th>\n",
       "    </tr>\n",
       "  </thead>\n",
       "  <tbody>\n",
       "    <tr>\n",
       "      <th>768</th>\n",
       "      <td>tt1449283</td>\n",
       "      <td>Winnie the Pooh</td>\n",
       "    </tr>\n",
       "  </tbody>\n",
       "</table>\n",
       "</div>"
      ],
      "text/plain": [
       "       imdb_id   original_title\n",
       "768  tt1449283  Winnie the Pooh"
      ]
     },
     "execution_count": 10,
     "metadata": {},
     "output_type": "execute_result"
    }
   ],
   "source": [
    "data[data.runtime == data.runtime.min()][['imdb_id', 'original_title']]"
   ]
  },
  {
   "cell_type": "code",
   "execution_count": 99,
   "metadata": {},
   "outputs": [],
   "source": [
    "answers['3'] = '3. Winnie the Pooh (tt1449283)' #+"
   ]
  },
  {
   "cell_type": "markdown",
   "metadata": {
    "colab_type": "text",
    "id": "TfQbxbfNVp-p"
   },
   "source": [
    "# 4. Какова средняя длительность фильмов?\n"
   ]
  },
  {
   "cell_type": "code",
   "execution_count": 12,
   "metadata": {
    "colab": {},
    "colab_type": "code",
    "id": "5K6dKZYVVp-q"
   },
   "outputs": [
    {
     "name": "stdout",
     "output_type": "stream",
     "text": [
      "110\n"
     ]
    }
   ],
   "source": [
    "print(round(data.runtime.mean()))"
   ]
  },
  {
   "cell_type": "code",
   "execution_count": 100,
   "metadata": {},
   "outputs": [],
   "source": [
    "answers['4'] = '2. 110' #+"
   ]
  },
  {
   "cell_type": "markdown",
   "metadata": {
    "colab_type": "text",
    "id": "r5TvbnT_Vp-u"
   },
   "source": [
    "# 5. Каково медианное значение длительности фильмов? "
   ]
  },
  {
   "cell_type": "code",
   "execution_count": 14,
   "metadata": {
    "colab": {},
    "colab_type": "code",
    "id": "iBROplKnVp-v"
   },
   "outputs": [
    {
     "name": "stdout",
     "output_type": "stream",
     "text": [
      "107.0\n"
     ]
    }
   ],
   "source": [
    "print(data.runtime.median())"
   ]
  },
  {
   "cell_type": "code",
   "execution_count": 101,
   "metadata": {},
   "outputs": [],
   "source": [
    "answers['5'] = '1. 107.0' #+"
   ]
  },
  {
   "cell_type": "markdown",
   "metadata": {
    "colab_type": "text",
    "id": "39P-deDSVp-y"
   },
   "source": [
    "# 6. Какой самый прибыльный фильм?\n",
    "#### Внимание! Здесь и далее под «прибылью» или «убытками» понимается разность между сборами и бюджетом фильма. (прибыль = сборы - бюджет) в нашем датасете это будет (profit = revenue - budget) "
   ]
  },
  {
   "cell_type": "code",
   "execution_count": 16,
   "metadata": {
    "colab": {},
    "colab_type": "code",
    "id": "UYZh4T9WVp-y"
   },
   "outputs": [
    {
     "data": {
      "text/html": [
       "<div>\n",
       "<style scoped>\n",
       "    .dataframe tbody tr th:only-of-type {\n",
       "        vertical-align: middle;\n",
       "    }\n",
       "\n",
       "    .dataframe tbody tr th {\n",
       "        vertical-align: top;\n",
       "    }\n",
       "\n",
       "    .dataframe thead th {\n",
       "        text-align: right;\n",
       "    }\n",
       "</style>\n",
       "<table border=\"1\" class=\"dataframe\">\n",
       "  <thead>\n",
       "    <tr style=\"text-align: right;\">\n",
       "      <th></th>\n",
       "      <th>imdb_id</th>\n",
       "      <th>original_title</th>\n",
       "    </tr>\n",
       "  </thead>\n",
       "  <tbody>\n",
       "    <tr>\n",
       "      <th>239</th>\n",
       "      <td>tt0499549</td>\n",
       "      <td>Avatar</td>\n",
       "    </tr>\n",
       "  </tbody>\n",
       "</table>\n",
       "</div>"
      ],
      "text/plain": [
       "       imdb_id original_title\n",
       "239  tt0499549         Avatar"
      ]
     },
     "execution_count": 16,
     "metadata": {},
     "output_type": "execute_result"
    }
   ],
   "source": [
    "# лучше код получения столбца profit вынести в Предобработку что в начале\n",
    "data[data.profit == data.profit.max()][['imdb_id', 'original_title']]"
   ]
  },
  {
   "cell_type": "code",
   "execution_count": 102,
   "metadata": {},
   "outputs": [],
   "source": [
    "answers['6'] = '5. Avatar (tt0499549)' #+"
   ]
  },
  {
   "cell_type": "markdown",
   "metadata": {
    "colab_type": "text",
    "id": "M99JmIX4Vp-2"
   },
   "source": [
    "# 7. Какой фильм самый убыточный? "
   ]
  },
  {
   "cell_type": "code",
   "execution_count": 20,
   "metadata": {
    "colab": {},
    "colab_type": "code",
    "id": "w-D2m4XPVp-3"
   },
   "outputs": [
    {
     "data": {
      "text/html": [
       "<div>\n",
       "<style scoped>\n",
       "    .dataframe tbody tr th:only-of-type {\n",
       "        vertical-align: middle;\n",
       "    }\n",
       "\n",
       "    .dataframe tbody tr th {\n",
       "        vertical-align: top;\n",
       "    }\n",
       "\n",
       "    .dataframe thead th {\n",
       "        text-align: right;\n",
       "    }\n",
       "</style>\n",
       "<table border=\"1\" class=\"dataframe\">\n",
       "  <thead>\n",
       "    <tr style=\"text-align: right;\">\n",
       "      <th></th>\n",
       "      <th>imdb_id</th>\n",
       "      <th>original_title</th>\n",
       "    </tr>\n",
       "  </thead>\n",
       "  <tbody>\n",
       "    <tr>\n",
       "      <th>1245</th>\n",
       "      <td>tt1210819</td>\n",
       "      <td>The Lone Ranger</td>\n",
       "    </tr>\n",
       "  </tbody>\n",
       "</table>\n",
       "</div>"
      ],
      "text/plain": [
       "        imdb_id   original_title\n",
       "1245  tt1210819  The Lone Ranger"
      ]
     },
     "execution_count": 20,
     "metadata": {},
     "output_type": "execute_result"
    }
   ],
   "source": [
    "data[data.profit == data.profit.min()][['imdb_id', 'original_title']]"
   ]
  },
  {
   "cell_type": "code",
   "execution_count": 103,
   "metadata": {},
   "outputs": [],
   "source": [
    "answers['7'] = '5. The Lone Ranger (tt1210819)' #+"
   ]
  },
  {
   "cell_type": "markdown",
   "metadata": {
    "colab_type": "text",
    "id": "wEOM5ERVVp-6"
   },
   "source": [
    "# 8. У скольких фильмов из датасета объем сборов оказался выше бюджета?"
   ]
  },
  {
   "cell_type": "code",
   "execution_count": 22,
   "metadata": {
    "colab": {},
    "colab_type": "code",
    "id": "y00_7HD6Vp-7"
   },
   "outputs": [
    {
     "data": {
      "text/plain": [
       "1478"
      ]
     },
     "execution_count": 22,
     "metadata": {},
     "output_type": "execute_result"
    }
   ],
   "source": [
    "data[data.revenue > data.budget].original_title.count()\n"
   ]
  },
  {
   "cell_type": "code",
   "execution_count": 104,
   "metadata": {},
   "outputs": [],
   "source": [
    "answers['8'] = '1. 1478' #+"
   ]
  },
  {
   "cell_type": "markdown",
   "metadata": {
    "colab_type": "text",
    "id": "xhpspA9KVp_A"
   },
   "source": [
    "# 9. Какой фильм оказался самым кассовым в 2008 году?"
   ]
  },
  {
   "cell_type": "code",
   "execution_count": 26,
   "metadata": {
    "colab": {},
    "colab_type": "code",
    "id": "MoUyQr9RVp_B"
   },
   "outputs": [
    {
     "name": "stdout",
     "output_type": "stream",
     "text": [
      "       imdb_id   original_title\n",
      "599  tt0468569  The Dark Knight\n"
     ]
    }
   ],
   "source": [
    "print(data[data.revenue == data[data.release_year ==\n",
    "                                2008].revenue.max()][['imdb_id', 'original_title']])"
   ]
  },
  {
   "cell_type": "code",
   "execution_count": 105,
   "metadata": {},
   "outputs": [],
   "source": [
    "answers['9'] = '4. The Dark Knight (tt0468569)' #+"
   ]
  },
  {
   "cell_type": "markdown",
   "metadata": {
    "colab_type": "text",
    "id": "Zi4hDKidVp_F"
   },
   "source": [
    "# 10. Самый убыточный фильм за период с 2012 по 2014 г. (включительно)?\n"
   ]
  },
  {
   "cell_type": "code",
   "execution_count": 31,
   "metadata": {
    "colab": {},
    "colab_type": "code",
    "id": "XqyRmufJVp_F"
   },
   "outputs": [
    {
     "name": "stdout",
     "output_type": "stream",
     "text": [
      "-165710090\n",
      "        imdb_id   original_title\n",
      "1245  tt1210819  The Lone Ranger\n"
     ]
    }
   ],
   "source": [
    "print(data[(data.release_year >= 2012) & (data.release_year <= 2014)].profit.min())\n",
    "print(data[data.profit == -165710090][['imdb_id', 'original_title']])"
   ]
  },
  {
   "cell_type": "code",
   "execution_count": 106,
   "metadata": {},
   "outputs": [],
   "source": [
    "answers['10'] = '5. The Lone Ranger (tt1210819)' #+"
   ]
  },
  {
   "cell_type": "markdown",
   "metadata": {
    "colab_type": "text",
    "id": "EA7Sa9dkVp_I"
   },
   "source": [
    "# 11. Какого жанра фильмов больше всего?"
   ]
  },
  {
   "cell_type": "code",
   "execution_count": 38,
   "metadata": {
    "colab": {},
    "colab_type": "code",
    "id": "zsJAwJ8QVp_J"
   },
   "outputs": [
    {
     "data": {
      "text/plain": [
       "genres\n",
       "Drama              782\n",
       "Comedy             683\n",
       "Thriller           596\n",
       "Action             582\n",
       "Adventure          415\n",
       "Crime              315\n",
       "Romance            308\n",
       "Family             260\n",
       "Science Fiction    248\n",
       "Fantasy            222\n",
       "Horror             176\n",
       "Mystery            168\n",
       "Animation          139\n",
       "Music               64\n",
       "History             62\n",
       "War                 58\n",
       "Western             19\n",
       "Documentary          8\n",
       "Foreign              2\n",
       "Name: count, dtype: int64"
      ]
     },
     "metadata": {},
     "output_type": "display_data"
    }
   ],
   "source": [
    "# эту задачу тоже можно решать разными подходами, попробуй реализовать разные варианты\n",
    "# если будешь добавлять функцию - выноси ее в предобработку что в начале\n",
    "\n",
    "#сначала пойдем одним из длинных и неэффективныx путем\n",
    "#1-й вариант\n",
    "df = pd.DataFrame() #создаем пустой датафрейм \n",
    "#проходимся по колнке genres и разбиваем жанры там где их несколько\n",
    "#и заполняем ими колонки нового датафрейма\n",
    "df = data.genres.str.split(\"|\",expand=True)\n",
    "#переименуем колонки созданные автоматически чтобы проще было к ним обращаться\n",
    "df.columns = ['name1', 'name2', 'name3', 'name4', 'name5']\n",
    "#персчтитываем в каждом столбце жанры\n",
    "#и создаем из каждого отдельный датафрейм из двух колонок соответсвенно(жанр и количество) \n",
    "n1 = df['name1'].value_counts()\n",
    "n1_df = n1.reset_index()\n",
    "n1_df.columns = ['genres','count']\n",
    "\n",
    "n2 = df['name2'].value_counts()\n",
    "n2_df = n2.reset_index()\n",
    "n2_df.columns = ['genres','count']\n",
    "\n",
    "n3 = df['name3'].value_counts()\n",
    "n3_df = n3.reset_index()\n",
    "n3_df.columns = ['genres','count']\n",
    "\n",
    "n4 = df['name4'].value_counts()\n",
    "n4_df = n4.reset_index()\n",
    "n4_df.columns = ['genres','count']\n",
    "\n",
    "n5 = df['name5'].value_counts()\n",
    "n5_df = n5.reset_index()\n",
    "n5_df.columns = ['genres','count']\n",
    "\n",
    "#объединяем все наши датафреймы полученные выше по колонке genres\n",
    "res = pd.concat([n1_df, n2_df, n3_df, n4_df, n5_df], ignore_index=True)\n",
    "#суммируем и сортируем по возрастанию\n",
    "grouped_df = res.groupby(['genres'])['count'].sum().sort_values(ascending=False)\n",
    "display(grouped_df)\n",
    "\n"
   ]
  },
  {
   "cell_type": "markdown",
   "metadata": {
    "colab_type": "text",
    "id": "Ax6g2C8SVp_M"
   },
   "source": [
    "ВАРИАНТ 2"
   ]
  },
  {
   "cell_type": "code",
   "execution_count": 41,
   "metadata": {
    "colab": {},
    "colab_type": "code",
    "id": "otO3SbrSVp_N"
   },
   "outputs": [
    {
     "name": "stdout",
     "output_type": "stream",
     "text": [
      "Drama              782\n",
      "Comedy             683\n",
      "Thriller           596\n",
      "Action             582\n",
      "Adventure          415\n",
      "Crime              315\n",
      "Romance            308\n",
      "Family             260\n",
      "Science Fiction    248\n",
      "Fantasy            222\n",
      "Horror             176\n",
      "Mystery            168\n",
      "Animation          139\n",
      "Music               64\n",
      "History             62\n",
      "War                 58\n",
      "Western             19\n",
      "Documentary          8\n",
      "Foreign              2\n",
      "dtype: int64\n"
     ]
    }
   ],
   "source": [
    "#2-й вариант\n",
    "#также пробегаемся по колнке genres и разбиваем жанры, там где их несколько\n",
    "#и загоняем их в серию\n",
    "ds = pd.Series(data['genres'].str.cat(sep='|').split('|'))\n",
    "#подсчитываем сколько раз встречается каждое значение в серии \n",
    "print(ds.value_counts(ascending=False))"
   ]
  },
  {
   "cell_type": "code",
   "execution_count": 107,
   "metadata": {},
   "outputs": [],
   "source": [
    "answers['11'] = '3. Drama' #+"
   ]
  },
  {
   "cell_type": "markdown",
   "metadata": {
    "colab_type": "text",
    "id": "T9_bPWpkVp_Q"
   },
   "source": [
    "# 12. Фильмы какого жанра чаще всего становятся прибыльными? "
   ]
  },
  {
   "cell_type": "code",
   "execution_count": 126,
   "metadata": {},
   "outputs": [
    {
     "name": "stdout",
     "output_type": "stream",
     "text": [
      "Drama              560\n",
      "Comedy             551\n",
      "Thriller           446\n",
      "Action             444\n",
      "Adventure          337\n",
      "Romance            242\n",
      "Crime              231\n",
      "Family             226\n",
      "Science Fiction    195\n",
      "Fantasy            188\n",
      "Horror             150\n",
      "Animation          120\n",
      "Mystery            119\n",
      "Music               47\n",
      "History             46\n",
      "War                 41\n",
      "Western             12\n",
      "Documentary          7\n",
      "dtype: int64\n"
     ]
    }
   ],
   "source": [
    "ds = pd.Series(data[data.profit > 0].genres.str.cat(sep='|').split('|'))\n",
    "#подсчитываем сколько раз встречается каждое значение в серии \n",
    "print(ds.value_counts(ascending=False))"
   ]
  },
  {
   "cell_type": "code",
   "execution_count": 108,
   "metadata": {},
   "outputs": [],
   "source": [
    "answers['12'] = '1. Drama' #+"
   ]
  },
  {
   "cell_type": "markdown",
   "metadata": {
    "colab_type": "text",
    "id": "0F23bgsDVp_U"
   },
   "source": [
    "# 13. У какого режиссера самые большие суммарные кассовые сбооры?"
   ]
  },
  {
   "cell_type": "code",
   "execution_count": 127,
   "metadata": {
    "colab": {},
    "colab_type": "code",
    "id": "K6Z3J8ygVp_X"
   },
   "outputs": [
    {
     "name": "stdout",
     "output_type": "stream",
     "text": [
      "director\n",
      "Peter Jackson        6490593685\n",
      "Christopher Nolan    4167548502\n",
      "David Yates          4154295625\n",
      "Michael Bay          3886938960\n",
      "J.J. Abrams          3579169916\n",
      "                        ...    \n",
      "David MichÃ´d           2295423\n",
      "Steven Shainberg        2281089\n",
      "Paul Schrader           2062066\n",
      "Keanu Reeves            2054941\n",
      "Simon Hunter            2033165\n",
      "Name: revenue, Length: 957, dtype: int64\n"
     ]
    }
   ],
   "source": [
    "#1-й вариант\n",
    "grouped_df = data.groupby(['director'])['revenue'].sum().sort_values(ascending=False)\n",
    "print(grouped_df)"
   ]
  },
  {
   "cell_type": "code",
   "execution_count": 45,
   "metadata": {},
   "outputs": [
    {
     "name": "stdout",
     "output_type": "stream",
     "text": [
      "Peter Jackson        6490593685\n",
      "Christopher Nolan    4167548502\n",
      "David Yates          4154295625\n",
      "Michael Bay          3886938960\n",
      "J.J. Abrams          3579169916\n",
      "                        ...    \n",
      "David MichÃ´d           2295423\n",
      "Steven Shainberg        2281089\n",
      "Paul Schrader           2062066\n",
      "Keanu Reeves            2054941\n",
      "Simon Hunter            2033165\n",
      "Length: 997, dtype: int64\n"
     ]
    }
   ],
   "source": [
    "# 2-й вариант для проверки(вдруг режиссеров у фильма может быть несколько)\n",
    "ds_director = pd.Series(data['director'].str.cat(sep='|').split('|'))\n",
    "ds_director = ds_director.value_counts(ascending=False)\n",
    "for director in ds_director.index:\n",
    "    ds_director[director] = data['revenue'][data['director'].map(\n",
    "        lambda x: True if director in x else False)].sum()\n",
    "print(ds_director.sort_values(ascending=False))\n",
    "# судя по количеству, такие ситуации действительно есть, \n",
    "#но на наш ответ в данном случае они не влияют"
   ]
  },
  {
   "cell_type": "code",
   "execution_count": 109,
   "metadata": {},
   "outputs": [],
   "source": [
    "answers['13'] = '5. Peter Jackson' #+"
   ]
  },
  {
   "cell_type": "markdown",
   "metadata": {
    "colab_type": "text",
    "id": "PsYC9FgRVp_a"
   },
   "source": [
    "# 14. Какой режисер снял больше всего фильмов в стиле Action?"
   ]
  },
  {
   "cell_type": "code",
   "execution_count": 54,
   "metadata": {},
   "outputs": [
    {
     "name": "stdout",
     "output_type": "stream",
     "text": [
      "Robert Rodriguez      9\n",
      "Michael Bay           7\n",
      "Paul W.S. Anderson    7\n",
      "Antoine Fuqua         6\n",
      "Ridley Scott          6\n",
      "                     ..\n",
      "Jeff Tremaine         1\n",
      "Doug Lefler           1\n",
      "Rian Johnson          1\n",
      "Andrew Stanton        1\n",
      "Jon Avnet             1\n",
      "Length: 364, dtype: int64\n"
     ]
    }
   ],
   "source": [
    "ds_director1 = pd.Series(data[data['genres'].str.contains(\n",
    "    \"Action\")].director.str.cat(sep='|').split('|'))\n",
    "ds_director1 = ds_director1.value_counts(ascending=False)\n",
    "print(ds_director1)"
   ]
  },
  {
   "cell_type": "code",
   "execution_count": 110,
   "metadata": {},
   "outputs": [],
   "source": [
    "answers['14'] = '3. Robert Rodriguez' #+"
   ]
  },
  {
   "cell_type": "markdown",
   "metadata": {
    "colab_type": "text",
    "id": "PQ0KciD7Vp_f"
   },
   "source": [
    "# 15. Фильмы с каким актером принесли самые высокие кассовые сборы в 2012 году? "
   ]
  },
  {
   "cell_type": "code",
   "execution_count": 56,
   "metadata": {
    "colab": {},
    "colab_type": "code",
    "id": "aga62oeKVp_g"
   },
   "outputs": [
    {
     "name": "stdout",
     "output_type": "stream",
     "text": [
      "Chris Hemsworth       2027450773\n",
      "Denis Leary           1629460639\n",
      "Anne Hathaway         1522851057\n",
      "Scarlett Johansson    1519557910\n",
      "Chris Evans           1519557910\n",
      "                         ...    \n",
      "Hope Davis               3428048\n",
      "Nicolas Cage             2106557\n",
      "Josh Lucas               2106557\n",
      "Danny Huston             2106557\n",
      "Sami Gayle               2106557\n",
      "Length: 466, dtype: int64\n"
     ]
    }
   ],
   "source": [
    "data_12 = data.query('release_year == 2012')\n",
    "cast = pd.Series(data_12['cast'].str.cat(sep='|').split('|'))\n",
    "cast = cast.value_counts(ascending=False)\n",
    "\n",
    "for actor in cast.index:\n",
    "    cast[actor] = data_12['revenue'][data_12['cast'].map(\n",
    "        lambda x: True if actor in x else False)].sum()\n",
    "print(cast.sort_values(ascending=False))"
   ]
  },
  {
   "cell_type": "code",
   "execution_count": 111,
   "metadata": {},
   "outputs": [],
   "source": [
    "answers['15'] = '3. Chris Hemsworth' #+"
   ]
  },
  {
   "cell_type": "markdown",
   "metadata": {
    "colab_type": "text",
    "id": "mWHyyL7QVp_j"
   },
   "source": [
    "# 16. Какой актер снялся в большем количестве высокобюджетных фильмов?"
   ]
  },
  {
   "cell_type": "code",
   "execution_count": 58,
   "metadata": {
    "colab": {},
    "colab_type": "code",
    "id": "qQtmHKTFVp_k"
   },
   "outputs": [
    {
     "data": {
      "text/plain": [
       "Matt Damon           18\n",
       "Adam Sandler         17\n",
       "Angelina Jolie       16\n",
       "Samuel L. Jackson    15\n",
       "Tom Cruise           15\n",
       "                     ..\n",
       "Robert Forster        1\n",
       "Jerry Stiller         1\n",
       "Piper Perabo          1\n",
       "Stan Collymore        1\n",
       "Daniel Olbrychski     1\n",
       "Length: 1505, dtype: int64"
      ]
     },
     "metadata": {},
     "output_type": "display_data"
    }
   ],
   "source": [
    "data_big_budget = data[data.budget > data.budget.mean()]\n",
    "cast = pd.Series(data_big_budget['cast'].str.cat(sep='|').split('|'))\n",
    "cast = cast.value_counts(ascending=False)\n",
    "display(cast)"
   ]
  },
  {
   "cell_type": "code",
   "execution_count": 112,
   "metadata": {},
   "outputs": [],
   "source": [
    "answers['16'] = '3. Matt Damon' #+"
   ]
  },
  {
   "cell_type": "markdown",
   "metadata": {
    "colab_type": "text",
    "id": "NIh6AaW5Vp_n"
   },
   "source": [
    "# 17. В фильмах какого жанра больше всего снимался Nicolas Cage? "
   ]
  },
  {
   "cell_type": "code",
   "execution_count": 62,
   "metadata": {},
   "outputs": [
    {
     "name": "stdout",
     "output_type": "stream",
     "text": [
      "Action             17\n",
      "Thriller           15\n",
      "Drama              12\n",
      "Crime              10\n",
      "Fantasy             8\n",
      "Adventure           7\n",
      "Comedy              6\n",
      "Science Fiction     4\n",
      "Mystery             3\n",
      "Animation           3\n",
      "Family              3\n",
      "History             2\n",
      "Romance             1\n",
      "War                 1\n",
      "Horror              1\n",
      "dtype: int64\n"
     ]
    }
   ],
   "source": [
    "ds_genres = pd.Series(data[data['cast'].str.contains(\n",
    "    \"Nicolas Cage\")].genres.str.cat(sep='|').split('|'))\n",
    "ds_genres = ds_genres.value_counts(ascending=False)\n",
    "print(ds_genres)"
   ]
  },
  {
   "cell_type": "code",
   "execution_count": 113,
   "metadata": {},
   "outputs": [],
   "source": [
    "answers['17'] = '2. Action' #+"
   ]
  },
  {
   "cell_type": "markdown",
   "metadata": {
    "colab_type": "text",
    "id": "RqOmPRfWVp_q"
   },
   "source": [
    "# 18. Самый убыточный фильм от Paramount Pictures"
   ]
  },
  {
   "cell_type": "code",
   "execution_count": 60,
   "metadata": {
    "colab": {},
    "colab_type": "code",
    "id": "9E_B0Y96Vp_r"
   },
   "outputs": [
    {
     "name": "stdout",
     "output_type": "stream",
     "text": [
      "       imdb_id     budget   revenue        original_title  \\\n",
      "925  tt0267626  100000000  35168966  K-19: The Widowmaker   \n",
      "\n",
      "                                                  cast         director  \\\n",
      "925  Harrison Ford|Liam Neeson|Peter Sarsgaard|Joss...  Kathryn Bigelow   \n",
      "\n",
      "                      tagline  \\\n",
      "925  Fate has found its hero.   \n",
      "\n",
      "                                              overview  runtime  \\\n",
      "925  When Russia's first nuclear submarine malfunct...      138   \n",
      "\n",
      "                     genres  \\\n",
      "925  Thriller|Drama|History   \n",
      "\n",
      "                                  production_companies release_date  \\\n",
      "925  Paramount Pictures|Intermedia Films|National G...   2002-07-19   \n",
      "\n",
      "     vote_average  release_year    profit  \n",
      "925           6.0          2002 -64831034  \n"
     ]
    }
   ],
   "source": [
    "data_Paramount = data[data.production_companies.str.contains(\n",
    "    \"Paramount Pictures\", na=False)]\n",
    "print(data_Paramount[data_Paramount.profit == data_Paramount.profit.min()])"
   ]
  },
  {
   "cell_type": "code",
   "execution_count": 114,
   "metadata": {},
   "outputs": [],
   "source": [
    "answers['18'] = '1. K-19: The Widowmaker (tt0267626)' #+"
   ]
  },
  {
   "cell_type": "markdown",
   "metadata": {
    "colab_type": "text",
    "id": "vS8Ur6ddVp_u"
   },
   "source": [
    "# 19. Какой год стал самым успешным по суммарным кассовым сборам?"
   ]
  },
  {
   "cell_type": "code",
   "execution_count": 65,
   "metadata": {
    "colab": {},
    "colab_type": "code",
    "id": "Dnbt4GdIVp_v"
   },
   "outputs": [
    {
     "data": {
      "text/plain": [
       "release_year\n",
       "2015    25449202382\n",
       "2014    23405862953\n",
       "2013    23213799791\n",
       "2012    23079001687\n",
       "2011    22676791872\n",
       "2010    21071204961\n",
       "2009    20261791024\n",
       "2008    18252781990\n",
       "2007    18162406801\n",
       "2004    15663430720\n",
       "2005    15309425558\n",
       "2006    14775042320\n",
       "2003    14346123312\n",
       "2002    14136361487\n",
       "2001    13017764865\n",
       "2000    10664099805\n",
       "Name: revenue, dtype: int64"
      ]
     },
     "metadata": {},
     "output_type": "display_data"
    }
   ],
   "source": [
    "grouped_df = data.groupby(['release_year'])['revenue'].sum().sort_values(ascending=False)\n",
    "display(grouped_df)"
   ]
  },
  {
   "cell_type": "code",
   "execution_count": 115,
   "metadata": {},
   "outputs": [],
   "source": [
    "answers['19'] = '5. 2015' #+"
   ]
  },
  {
   "cell_type": "markdown",
   "metadata": {
    "colab_type": "text",
    "id": "JAzJh4QAVp_z"
   },
   "source": [
    "# 20. Какой самый прибыльный год для студии Warner Bros?"
   ]
  },
  {
   "cell_type": "code",
   "execution_count": 67,
   "metadata": {
    "colab": {},
    "colab_type": "code",
    "id": "wgVu02DEVp_0"
   },
   "outputs": [
    {
     "name": "stdout",
     "output_type": "stream",
     "text": [
      "release_year\n",
      "2014    2295464519\n",
      "2007    2201675217\n",
      "2008    2134595031\n",
      "2010    1974712985\n",
      "2011    1871393682\n",
      "2003    1855493377\n",
      "2009    1822454136\n",
      "2013    1636453400\n",
      "2004    1631933725\n",
      "2005    1551980298\n",
      "2001    1343545668\n",
      "2012    1258020056\n",
      "2002    1022709901\n",
      "2015     870368348\n",
      "2006     620170743\n",
      "2000     452631386\n",
      "Name: profit, dtype: int64\n"
     ]
    }
   ],
   "source": [
    "data_WarnerBros = data[data.production_companies.str.contains(\n",
    "    \"Warner Bros\", na=False)]\n",
    "grouped_WarnerBros = data_WarnerBros.groupby(\n",
    "    ['release_year'])['profit'].sum().sort_values(ascending=False)\n",
    "print(grouped_WarnerBros)"
   ]
  },
  {
   "cell_type": "code",
   "execution_count": 116,
   "metadata": {},
   "outputs": [],
   "source": [
    "answers['20'] = '1. 2014' #+"
   ]
  },
  {
   "cell_type": "markdown",
   "metadata": {
    "colab_type": "text",
    "id": "8Im1S2HRVp_4"
   },
   "source": [
    "# 21. В каком месяце за все годы суммарно вышло больше всего фильмов?"
   ]
  },
  {
   "cell_type": "code",
   "execution_count": 73,
   "metadata": {
    "colab": {},
    "colab_type": "code",
    "id": "lev6TH7gVp_4"
   },
   "outputs": [
    {
     "data": {
      "text/plain": [
       "month\n",
       "9     227\n",
       "12    190\n",
       "10    186\n",
       "8     161\n",
       "3     156\n",
       "4     149\n",
       "6     147\n",
       "11    146\n",
       "7     142\n",
       "5     140\n",
       "2     135\n",
       "1     110\n",
       "Name: original_title, dtype: int64"
      ]
     },
     "metadata": {},
     "output_type": "display_data"
    }
   ],
   "source": [
    "grouped_df = data.groupby(['month'])['original_title'].count().sort_values(ascending=False)\n",
    "display(grouped_df)"
   ]
  },
  {
   "cell_type": "code",
   "execution_count": 117,
   "metadata": {},
   "outputs": [],
   "source": [
    "answers['21'] = '4. Сентябрь' #+"
   ]
  },
  {
   "cell_type": "markdown",
   "metadata": {
    "colab_type": "text",
    "id": "uAJsZ_NeVp_7"
   },
   "source": [
    "# 22. Сколько суммарно вышло фильмов летом? (за июнь, июль, август)"
   ]
  },
  {
   "cell_type": "code",
   "execution_count": 74,
   "metadata": {
    "colab": {},
    "colab_type": "code",
    "id": "Aa-hEREoVp_8"
   },
   "outputs": [
    {
     "name": "stdout",
     "output_type": "stream",
     "text": [
      "450\n"
     ]
    }
   ],
   "source": [
    "data_summer = data[(data.month==6)|(data.month==7)|(data.month==8)]\n",
    "print(len(data_summer))"
   ]
  },
  {
   "cell_type": "code",
   "execution_count": 118,
   "metadata": {},
   "outputs": [],
   "source": [
    "answers['22'] = '2. 450' #+"
   ]
  },
  {
   "cell_type": "markdown",
   "metadata": {
    "colab_type": "text",
    "id": "G94ppOY1VqAA"
   },
   "source": [
    "# 23. Для какого режиссера зима – самое продуктивное время года? "
   ]
  },
  {
   "cell_type": "code",
   "execution_count": 76,
   "metadata": {
    "colab": {},
    "colab_type": "code",
    "id": "RhNTsamuVqAB"
   },
   "outputs": [
    {
     "name": "stdout",
     "output_type": "stream",
     "text": [
      "director\n",
      "Peter Jackson                          7\n",
      "Steven Soderbergh                      6\n",
      "Clint Eastwood                         6\n",
      "Nancy Meyers                           4\n",
      "Adam Shankman                          4\n",
      "                                      ..\n",
      "Matt Bettinelli-Olpin|Tyler Gillett    1\n",
      "Matt Reeves                            1\n",
      "Matthew O'Callaghan                    1\n",
      "Matthew Vaughn                         1\n",
      "Aaron Seltzer|Jason Friedberg          1\n",
      "Name: original_title, Length: 332, dtype: int64\n"
     ]
    }
   ],
   "source": [
    "data_winter = data[(data.month == 1) | (data.month == 2) | (data.month == 12)]\n",
    "grouped_df = data_winter.groupby(\n",
    "    ['director'])['original_title'].count().sort_values(ascending=False)\n",
    "print(grouped_df)"
   ]
  },
  {
   "cell_type": "code",
   "execution_count": 119,
   "metadata": {},
   "outputs": [],
   "source": [
    "answers['23'] = '5. Peter Jackson' #+"
   ]
  },
  {
   "cell_type": "markdown",
   "metadata": {
    "colab_type": "text",
    "id": "RBo0JVjVVqAF"
   },
   "source": [
    "# 24. Какая студия дает самые длинные названия своим фильмам по количеству символов?"
   ]
  },
  {
   "cell_type": "code",
   "execution_count": 79,
   "metadata": {},
   "outputs": [
    {
     "name": "stdout",
     "output_type": "stream",
     "text": [
      "Four By Two Productions       83\n",
      "Jim Henson Company, The       59\n",
      "Dos Corazones                 47\n",
      "Museum Canada Productions     46\n",
      "Polsky Films                  46\n",
      "                              ..\n",
      "Everest Entertainment          3\n",
      "Berlanti Productions           3\n",
      "Global Entertainment Group     2\n",
      "Ixtlan Productions             2\n",
      "XM2 Productions                2\n",
      "Length: 1771, dtype: int64\n"
     ]
    }
   ],
   "source": [
    "companies = data.production_companies.str.cat(sep='|').split('|')\n",
    "companies = pd.Series(companies)\n",
    "companies = companies.value_counts(ascending=False)\n",
    "#добавим колонку с длиной названий фильмов\n",
    "data['len_original_title'] = data.original_title.str.len() \n",
    "\n",
    "for compan in companies.index:\n",
    "    companies[compan] = data['len_original_title'][data['production_companies'].map(\n",
    "        lambda x: True if compan in x else False)].mean()\n",
    "print(companies.sort_values(ascending=False))"
   ]
  },
  {
   "cell_type": "code",
   "execution_count": 120,
   "metadata": {},
   "outputs": [],
   "source": [
    "answers['24'] = '5. Four By Two Productions' #+"
   ]
  },
  {
   "cell_type": "markdown",
   "metadata": {
    "colab_type": "text",
    "id": "9G0hbvR7VqAK"
   },
   "source": [
    "# 25. Описание фильмов какой студии в среднем самые длинные по количеству слов?"
   ]
  },
  {
   "cell_type": "code",
   "execution_count": 83,
   "metadata": {},
   "outputs": [
    {
     "name": "stdout",
     "output_type": "stream",
     "text": [
      "Midnight Picture Show                             175\n",
      "Heineken Branded Entertainment                    161\n",
      "Room 9 Entertainment                              161\n",
      "98 MPH Productions                                159\n",
      "Brookwell-McNamara Entertainment                  156\n",
      "                                                 ... \n",
      "Henceforth                                         13\n",
      "London Boulevard                                   13\n",
      "TDJ Enterprises / New Dimensions Entertainment     13\n",
      "Motion Picture Corporation of America              11\n",
      "Empire Pictures                                    11\n",
      "Length: 1771, dtype: int64\n"
     ]
    }
   ],
   "source": [
    "companies = data.production_companies.str.cat(sep='|').split('|')\n",
    "companies = pd.Series(companies)\n",
    "companies = companies.value_counts(ascending=False)\n",
    "#добавим колонку с количеством слов в описании фильма(количество пробелов + 1)\n",
    "data['count_overview'] = data.overview.str.count(' ') + 1 \n",
    "\n",
    "for compan in companies.index:\n",
    "    companies[compan] = data['count_overview'][data['production_companies'].map(\n",
    "        lambda x: True if compan in x else False)].mean()\n",
    "\n",
    "print(companies.sort_values(ascending=False))"
   ]
  },
  {
   "cell_type": "code",
   "execution_count": 121,
   "metadata": {},
   "outputs": [],
   "source": [
    "answers['25'] = '3. Midnight Picture Show' #+"
   ]
  },
  {
   "cell_type": "markdown",
   "metadata": {
    "colab_type": "text",
    "id": "FJ1AFt90VqAP"
   },
   "source": [
    "# 26. Какие фильмы входят в 1 процент лучших по рейтингу? \n",
    "по vote_average"
   ]
  },
  {
   "cell_type": "code",
   "execution_count": 92,
   "metadata": {
    "colab": {},
    "colab_type": "code",
    "id": "8qmJVq4CVqAQ",
    "scrolled": true
   },
   "outputs": [
    {
     "data": {
      "text/plain": [
       "(3.294, 3.553]      6\n",
       "(3.553, 3.805]      4\n",
       "(3.805, 4.058]      6\n",
       "(4.058, 4.311]     10\n",
       "(4.311, 4.563]     19\n",
       "(4.563, 4.816]     36\n",
       "(4.816, 5.068]     46\n",
       "(5.068, 5.321]    152\n",
       "(5.321, 5.574]    128\n",
       "(5.574, 5.826]    250\n",
       "(5.826, 6.079]    201\n",
       "(6.079, 6.332]    281\n",
       "(6.332, 6.584]    200\n",
       "(6.584, 6.837]    206\n",
       "(6.837, 7.089]    105\n",
       "(7.089, 7.342]    137\n",
       "(7.342, 7.595]     40\n",
       "(7.595, 7.847]     48\n",
       "(7.847, 8.1]       14\n",
       "Name: vote_average, dtype: int64"
      ]
     },
     "metadata": {},
     "output_type": "display_data"
    },
    {
     "name": "stdout",
     "output_type": "stream",
     "text": [
      "        imdb_id     budget     revenue  \\\n",
      "9     tt2096673  175000000   853708609   \n",
      "34    tt3170832    6000000    35401758   \n",
      "118   tt0816692  165000000   621752480   \n",
      "119   tt2015381  170000000   773312399   \n",
      "125   tt2084970   14000000   233555708   \n",
      "128   tt2267998   61000000   369330363   \n",
      "138   tt2278388   30000000   174600318   \n",
      "370   tt1375666  160000000   825500000   \n",
      "599   tt0468569  185000000  1001921825   \n",
      "872   tt0253474   35000000   120072577   \n",
      "1081  tt0167260   94000000  1118888979   \n",
      "1183  tt0993846  100000000   392000694   \n",
      "1191  tt2024544   20000000   187000000   \n",
      "1800  tt0209144    9000000    39723096   \n",
      "\n",
      "                                     original_title  \\\n",
      "9                                        Inside Out   \n",
      "34                                             Room   \n",
      "118                                    Interstellar   \n",
      "119                         Guardians of the Galaxy   \n",
      "125                              The Imitation Game   \n",
      "128                                       Gone Girl   \n",
      "138                        The Grand Budapest Hotel   \n",
      "370                                       Inception   \n",
      "599                                 The Dark Knight   \n",
      "872                                     The Pianist   \n",
      "1081  The Lord of the Rings: The Return of the King   \n",
      "1183                        The Wolf of Wall Street   \n",
      "1191                               12 Years a Slave   \n",
      "1800                                        Memento   \n",
      "\n",
      "                                                   cast           director  \\\n",
      "9     Amy Poehler|Phyllis Smith|Richard Kind|Bill Ha...        Pete Docter   \n",
      "34    Brie Larson|Jacob Tremblay|Joan Allen|Sean Bri...   Lenny Abrahamson   \n",
      "118   Matthew McConaughey|Jessica Chastain|Anne Hath...  Christopher Nolan   \n",
      "119   Chris Pratt|Zoe Saldana|Dave Bautista|Vin Dies...         James Gunn   \n",
      "125   Benedict Cumberbatch|Keira Knightley|Matthew G...      Morten Tyldum   \n",
      "128   Ben Affleck|Rosamund Pike|Carrie Coon|Neil Pat...      David Fincher   \n",
      "138   Ralph Fiennes|Tony Revolori|F. Murray Abraham|...       Wes Anderson   \n",
      "370   Leonardo DiCaprio|Joseph Gordon-Levitt|Ellen P...  Christopher Nolan   \n",
      "599   Christian Bale|Michael Caine|Heath Ledger|Aaro...  Christopher Nolan   \n",
      "872   Adrien Brody|Thomas Kretschmann|Frank Finlay|M...     Roman Polanski   \n",
      "1081  Elijah Wood|Ian McKellen|Viggo Mortensen|Liv T...      Peter Jackson   \n",
      "1183  Leonardo DiCaprio|Jonah Hill|Margot Robbie|Kyl...    Martin Scorsese   \n",
      "1191  Chiwetel Ejiofor|Michael Fassbender|Lupita Nyo...      Steve McQueen   \n",
      "1800  Guy Pearce|Carrie-Anne Moss|Joe Pantoliano|Mar...  Christopher Nolan   \n",
      "\n",
      "                                                tagline  \\\n",
      "9              Meet the little voices inside your head.   \n",
      "34                             Love knows no boundaries   \n",
      "118   Mankind was born on Earth. It was never meant ...   \n",
      "119                         All heroes start somewhere.   \n",
      "125   The true enigma was the man who cracked the code.   \n",
      "128         You don't know what you've got 'til it's...   \n",
      "138             A perfect holiday without leaving home.   \n",
      "370                Your mind is the scene of the crime.   \n",
      "599                                     Why So Serious?   \n",
      "872   Music was his passion. Survival was his master...   \n",
      "1081                    The eye of the enemy is moving.   \n",
      "1183                                EARN. SPEND. PARTY.   \n",
      "1191    The extraordinary true story of Solomon Northup   \n",
      "1800                  Some memories are best forgotten.   \n",
      "\n",
      "                                               overview  runtime  \\\n",
      "9     Growing up can be a bumpy road, and it's no ex...       94   \n",
      "34    Jack is a young boy of 5 years old who has liv...      117   \n",
      "118   Interstellar chronicles the adventures of a gr...      169   \n",
      "119   Light years from Earth, 26 years after being a...      121   \n",
      "125   Based on the real life story of legendary cryp...      113   \n",
      "128   With his wife's disappearance having become th...      145   \n",
      "138   The Grand Budapest Hotel tells of a legendary ...       99   \n",
      "370   Cobb, a skilled thief who commits corporate es...      148   \n",
      "599   Batman raises the stakes in his war on crime. ...      152   \n",
      "872   The Pianist is a film adapted from the biograp...      150   \n",
      "1081  Aragorn is revealed as the heir to the ancient...      201   \n",
      "1183  A New York stockbroker refuses to cooperate in...      180   \n",
      "1191  In the pre-Civil War United States, Solomon No...      134   \n",
      "1800  Suffering short-term memory loss after a head ...      113   \n",
      "\n",
      "                                                 genres  \\\n",
      "9                               Comedy|Animation|Family   \n",
      "34                                       Drama|Thriller   \n",
      "118                     Adventure|Drama|Science Fiction   \n",
      "119                    Action|Science Fiction|Adventure   \n",
      "125                          History|Drama|Thriller|War   \n",
      "128                              Mystery|Thriller|Drama   \n",
      "138                                        Comedy|Drama   \n",
      "370   Action|Thriller|Science Fiction|Mystery|Adventure   \n",
      "599                         Drama|Action|Crime|Thriller   \n",
      "872                                           Drama|War   \n",
      "1081                           Adventure|Fantasy|Action   \n",
      "1183                                 Crime|Drama|Comedy   \n",
      "1191                                      Drama|History   \n",
      "1800                                   Mystery|Thriller   \n",
      "\n",
      "                                   production_companies release_date  \\\n",
      "9     Walt Disney Pictures|Pixar Animation Studios|W...   2015-06-09   \n",
      "34    Element Pictures|No Trace Camping|A24|Duperele...   2015-10-16   \n",
      "118   Paramount Pictures|Legendary Pictures|Warner B...   2014-11-05   \n",
      "119   Marvel Studios|Moving Picture Company (MPC)|Bu...   2014-07-30   \n",
      "125              Black Bear Pictures|Bristol Automotive   2014-11-14   \n",
      "128   Twentieth Century Fox Film Corporation|Regency...   2014-10-01   \n",
      "138   Fox Searchlight Pictures|Scott Rudin Productio...   2014-02-26   \n",
      "370             Legendary Pictures|Warner Bros.|Syncopy   2010-07-14   \n",
      "599   DC Comics|Legendary Pictures|Warner Bros.|Syncopy   2008-07-16   \n",
      "872   Bac Films|Canal+Polska|Heritage Films|Studio B...   2002-09-24   \n",
      "1081                      WingNut Films|New Line Cinema   2003-12-01   \n",
      "1183  Paramount Pictures|Appian Way|EMJAG Production...   2013-12-25   \n",
      "1191  Plan B Entertainment|Regency Enterprises|River...   2013-10-18   \n",
      "1800  Summit Entertainment|Newmarket Capital Group|T...   2000-10-11   \n",
      "\n",
      "      vote_average  release_year      profit  month  len_original_title  \\\n",
      "9              8.0          2015   678708609      6                  10   \n",
      "34             8.0          2015    29401758     10                   4   \n",
      "118            8.0          2014   456752480     11                  12   \n",
      "119            7.9          2014   603312399      7                  23   \n",
      "125            8.0          2014   219555708     11                  18   \n",
      "128            7.9          2014   308330363     10                   9   \n",
      "138            7.9          2014   144600318      2                  24   \n",
      "370            7.9          2010   665500000      7                   9   \n",
      "599            8.1          2008   816921825      7                  15   \n",
      "872            7.9          2002    85072577      9                  11   \n",
      "1081           7.9          2003  1024888979     12                  45   \n",
      "1183           7.9          2013   292000694     12                  23   \n",
      "1191           7.9          2013   167000000     10                  16   \n",
      "1800           7.9          2000    30723096     10                   7   \n",
      "\n",
      "      count_overview  \n",
      "9                112  \n",
      "34                49  \n",
      "118               35  \n",
      "119               28  \n",
      "125               46  \n",
      "128               30  \n",
      "138               66  \n",
      "370               44  \n",
      "599               67  \n",
      "872               39  \n",
      "1081              45  \n",
      "1183              29  \n",
      "1191              61  \n",
      "1800              78  \n"
     ]
    }
   ],
   "source": [
    "# у нас всего 1889 фильмов. один процент от этого количества 18.89\n",
    "# разобьем весь датасет на 19 равных промежутка по vote_average\n",
    "s = data['vote_average'].value_counts(sort=False, bins=19)\n",
    "display(s)  # видим что в процент лучих по рейтингу попадает всего 14 фильмов\n",
    "# выведем их\n",
    "print(data.loc[(data['vote_average'] > s.index[18].left)\n",
    "               & (data['vote_average'] <= s.index[18].right)])"
   ]
  },
  {
   "cell_type": "code",
   "execution_count": 122,
   "metadata": {},
   "outputs": [],
   "source": [
    "answers['26'] = '1. Inside Out, The Dark Knight, 12 Years a Slave' #+"
   ]
  },
  {
   "cell_type": "markdown",
   "metadata": {
    "colab_type": "text",
    "id": "MdXsUXbCVqAV"
   },
   "source": [
    "# 27. Какие актеры чаще всего снимаются в одном фильме вместе?\n"
   ]
  },
  {
   "cell_type": "code",
   "execution_count": 94,
   "metadata": {},
   "outputs": [
    {
     "name": "stdout",
     "output_type": "stream",
     "text": [
      "                                  count\n",
      "Daniel Radcliffe&Emma Watson          8\n",
      "Emma Watson&Rupert Grint              8\n",
      "Rupert Grint&Emma Watson              8\n",
      "Ben Stiller&Owen Wilson               6\n",
      "Owen Wilson&Ben Stiller               6\n",
      "...                                 ...\n",
      "Carice van Houten&Liev Schreiber      1\n",
      "Robert Forster&Peter Facinelli        1\n",
      "Jason Flemyng&Shane West              1\n",
      "Taryn Manning&Zoe Saldana             1\n",
      "Martin Donovan&Kiefer Sutherland      1\n",
      "\n",
      "[1519 rows x 1 columns]\n"
     ]
    }
   ],
   "source": [
    "cast = pd.Series(data['cast'].str.cat(sep='|').split('|'))\n",
    "cast = cast.value_counts(ascending=False)\n",
    "#сокращаем список(выкидываем актеров которые встречаются 1 раз)\n",
    "cast = cast.loc[cast.apply(lambda x: x > 1)]\n",
    "\n",
    "i=0\n",
    "\n",
    "for actor in cast.index:\n",
    "    data_actor = data[data.cast.str.contains(actor, na=False)]\n",
    "    cast_actor = pd.Series(data_actor['cast'].str.cat(sep='|').split('|'))\n",
    "    cast_actor = cast_actor.value_counts(ascending=False)\n",
    "    if i==0:\n",
    "        series_res = pd.Series([cast_actor.iloc[1]],\n",
    "                 index = [cast_actor.index[0] + '&' + cast_actor.index[1]])\n",
    "    else:\n",
    "        series_res = series_res.append(pd.Series([cast_actor.iloc[1]],\n",
    "                 index = [cast_actor.index[0] + '&' + cast_actor.index[1]]))\n",
    "    \n",
    "    i+=1\n",
    "\n",
    "series_res_db = pd.DataFrame(series_res, columns=['count'])\n",
    "print(series_res_db.sort_values(by = ['count'], ascending = [False]))    \n",
    "#можно еще убрать двойников, но и так все видно"
   ]
  },
  {
   "cell_type": "code",
   "execution_count": 123,
   "metadata": {},
   "outputs": [],
   "source": [
    "answers['27'] = '5. Daniel Radcliffe&Rupert Grint' #+"
   ]
  },
  {
   "cell_type": "markdown",
   "metadata": {
    "colab_type": "text",
    "id": "4ymnxEVoVqAW"
   },
   "source": [
    "ВАРИАНТ 2"
   ]
  },
  {
   "cell_type": "markdown",
   "metadata": {
    "colab_type": "text",
    "id": "U0nONFnGVqAX"
   },
   "source": [
    "# Submission"
   ]
  },
  {
   "cell_type": "code",
   "execution_count": 124,
   "metadata": {
    "colab": {},
    "colab_type": "code",
    "id": "IfcaRO9-VqAX",
    "outputId": "0f132912-32bb-4196-c98c-abfbc4ad5a5f"
   },
   "outputs": [
    {
     "data": {
      "text/plain": [
       "{'22': '2. 450',\n",
       " '23': '5. Peter Jackson',\n",
       " '24': '5. Four By Two Productions',\n",
       " '25': '3. Midnight Picture Show',\n",
       " '26': '1. Inside Out, The Dark Knight, 12 Years a Slave',\n",
       " '27': '5. Daniel Radcliffe&Rupert Grint',\n",
       " '1': '5. Pirates of the Caribbean: On Stranger Tides (tt1298650)',\n",
       " '2': '2. Gods and Generals (tt0279111)',\n",
       " '3': '3. Winnie the Pooh (tt1449283)',\n",
       " '4': '2. 110',\n",
       " '5': '1. 107.0',\n",
       " '6': '5. Avatar (tt0499549)',\n",
       " '7': '5. The Lone Ranger (tt1210819)',\n",
       " '8': '1. 1478',\n",
       " '9': '4. The Dark Knight (tt0468569)',\n",
       " '10': '5. The Lone Ranger (tt1210819)',\n",
       " '11': '3. Drama',\n",
       " '12': '1. Drama',\n",
       " '13': '5. Peter Jackson',\n",
       " '14': '3. Robert Rodriguez',\n",
       " '15': '3. Chris Hemsworth',\n",
       " '16': '3. Matt Damon',\n",
       " '17': '2. Action',\n",
       " '18': '1. K-19: The Widowmaker (tt0267626)',\n",
       " '19': '5. 2015',\n",
       " '20': '1. 2014',\n",
       " '21': '4. Сентябрь'}"
      ]
     },
     "execution_count": 124,
     "metadata": {},
     "output_type": "execute_result"
    }
   ],
   "source": [
    "# в конце можно посмотреть свои ответы к каждому вопросу\n",
    "answers"
   ]
  },
  {
   "cell_type": "code",
   "execution_count": 125,
   "metadata": {
    "colab": {},
    "colab_type": "code",
    "id": "SiRmHPl8VqAd"
   },
   "outputs": [
    {
     "data": {
      "text/plain": [
       "27"
      ]
     },
     "execution_count": 125,
     "metadata": {},
     "output_type": "execute_result"
    }
   ],
   "source": [
    "# и убедиться что ни чего не пропустил)\n",
    "len(answers)"
   ]
  },
  {
   "cell_type": "code",
   "execution_count": 0,
   "metadata": {
    "colab": {},
    "colab_type": "code",
    "id": "uCfuTkRbVqAg"
   },
   "outputs": [],
   "source": []
  },
  {
   "cell_type": "code",
   "execution_count": 0,
   "metadata": {
    "colab": {},
    "colab_type": "code",
    "id": "Vwx3NrkSVqAl"
   },
   "outputs": [],
   "source": []
  }
 ],
 "metadata": {
  "colab": {
   "name": "Copy of [SF-DST] Movies IMBD v4.1 TEMPLATE.ipynb",
   "provenance": []
  },
  "kernelspec": {
   "display_name": "Python 3",
   "language": "python",
   "name": "python3"
  },
  "language_info": {
   "codemirror_mode": {
    "name": "ipython",
    "version": 3
   },
   "file_extension": ".py",
   "mimetype": "text/x-python",
   "name": "python",
   "nbconvert_exporter": "python",
   "pygments_lexer": "ipython3",
   "version": "3.7.6"
  }
 },
 "nbformat": 4,
 "nbformat_minor": 1
}
